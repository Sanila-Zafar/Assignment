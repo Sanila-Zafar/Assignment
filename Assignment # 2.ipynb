{
 "cells": [
  {
   "cell_type": "code",
   "execution_count": 6,
   "metadata": {},
   "outputs": [
    {
     "name": "stdout",
     "output_type": "stream",
     "text": [
      "Enter marks of Sub1=45\n",
      "Enter marks of Sub2=39\n",
      "Enter marks of Sub3=14\n",
      "Enter marks of Sub4=10\n",
      "Enter marks of Sub5=12\n",
      "Grade = F\n"
     ]
    }
   ],
   "source": [
    "#1. Write a program which takes 5 inputs from user for different subject’s marks, total it and generate mark sheet using grades ?\n",
    "\n",
    "Sub1=int(input(\"Enter marks of Sub1=\"))\n",
    "Sub2=int(input(\"Enter marks of Sub2=\"))\n",
    "Sub3=int(input(\"Enter marks of Sub3=\"))\n",
    "Sub4=int(input(\"Enter marks of Sub4=\"))\n",
    "Sub5=int(input(\"Enter marks of Sub5=\"))\n",
    "\n",
    "total=((Sub1+Sub2+Sub3+Sub4+Sub5)/500)*100\n",
    "if(total>=80):\n",
    "    print(\"Grade = A+\")\n",
    "elif(total>=70):\n",
    "    print(\"Grade = A\")\n",
    "elif(total>=60):\n",
    "    print(\"Grade = B\")\n",
    "elif(total>=50):\n",
    "    print(\"Grade = C\")\n",
    "elif(total<50):\n",
    "    print(\"Grade = F\")\n",
    "    \n",
    "    "
   ]
  },
  {
   "cell_type": "code",
   "execution_count": 9,
   "metadata": {},
   "outputs": [
    {
     "name": "stdout",
     "output_type": "stream",
     "text": [
      "enter a number=5\n",
      "the number is odd\n"
     ]
    }
   ],
   "source": [
    "#2. Write a program which take input from user and identify that the given number is even or odd?\n",
    "\n",
    "a=int(input(\"enter a number=\"))\n",
    "b= a % 2\n",
    "if b>0:\n",
    "    print(\"the number is odd\")\n",
    "else:\n",
    "    print(\"the number is even\")\n",
    "        "
   ]
  },
  {
   "cell_type": "code",
   "execution_count": 17,
   "metadata": {},
   "outputs": [
    {
     "name": "stdout",
     "output_type": "stream",
     "text": [
      "10\n"
     ]
    }
   ],
   "source": [
    "#3. Write a program which print the length of the list?\n",
    "\n",
    "A=[1,2,3,4,5,6,7,8,9,10]\n",
    "print(len(A))"
   ]
  },
  {
   "cell_type": "code",
   "execution_count": 21,
   "metadata": {},
   "outputs": [
    {
     "name": "stdout",
     "output_type": "stream",
     "text": [
      "numbers=4\n",
      "Enter a num=1\n",
      "Enter a num=2\n",
      "Enter a num=3\n",
      "Enter a num=4\n",
      "10\n"
     ]
    }
   ],
   "source": [
    "#4. Write a Python program to sum all the numeric items in a list?\n",
    "\n",
    "list=[]\n",
    "n=int(input(\"numbers=\"))\n",
    "for i in range(0,n):\n",
    "    a=int(input(\"Enter a num=\"))\n",
    "    list.append(a)\n",
    "Sum=sum(list)\n",
    "print(Sum)\n",
    "    "
   ]
  },
  {
   "cell_type": "code",
   "execution_count": 24,
   "metadata": {},
   "outputs": [
    {
     "name": "stdout",
     "output_type": "stream",
     "text": [
      "largest number= 89\n"
     ]
    }
   ],
   "source": [
    "#5. Write a Python program to get the largest number from a numeric list.\n",
    "\n",
    "A=[55,5,89,6,7]\n",
    "print(\"largest number=\",max(A))"
   ]
  },
  {
   "cell_type": "code",
   "execution_count": 27,
   "metadata": {},
   "outputs": [
    {
     "name": "stdout",
     "output_type": "stream",
     "text": [
      "0\n",
      "1\n",
      "2\n",
      "3\n",
      "4\n"
     ]
    }
   ],
   "source": [
    "#6. Take a list, say for example this one a = [1, 1, 2, 3, 5, 8, 13, 21, 34, 55, 89] and write a program that prints out all the elements of the list that are less than 5.\n",
    "\n",
    "a = [1, 1, 2, 3, 5, 8, 13, 21, 34, 55, 89]\n",
    "for i in range(0,len(a)):\n",
    "    if i<5:\n",
    "        print(i)\n"
   ]
  },
  {
   "cell_type": "code",
   "execution_count": null,
   "metadata": {},
   "outputs": [],
   "source": []
  }
 ],
 "metadata": {
  "kernelspec": {
   "display_name": "Python 3",
   "language": "python",
   "name": "python3"
  },
  "language_info": {
   "codemirror_mode": {
    "name": "ipython",
    "version": 3
   },
   "file_extension": ".py",
   "mimetype": "text/x-python",
   "name": "python",
   "nbconvert_exporter": "python",
   "pygments_lexer": "ipython3",
   "version": "3.7.3"
  }
 },
 "nbformat": 4,
 "nbformat_minor": 2
}
