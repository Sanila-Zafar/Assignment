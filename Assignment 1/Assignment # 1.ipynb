{
 "cells": [
  {
   "cell_type": "code",
   "execution_count": 4,
   "metadata": {},
   "outputs": [
    {
     "name": "stdout",
     "output_type": "stream",
     "text": [
      "Twinkel, twinkel, Little star,\n",
      "\t How I wounder what you are!\n",
      "\t\tUp above the world so high,\n",
      "\t\tLike a diamond in the sky.\n",
      "Twinkel, twinkel, little star,\n",
      "\tHow I wounder what you are\n"
     ]
    }
   ],
   "source": [
    "#Q1: Write a Python program to print the following string in a specific format (see the output).\n",
    "\n",
    "print(\"Twinkel, twinkel, Little star,\\n\\t How I wounder what you are!\\n\\t\\tUp above the world so high,\\n\\t\\tLike a diamond in the sky.\\nTwinkel, twinkel, little star,\\n\\tHow I wounder what you are\")\n"
   ]
  },
  {
   "cell_type": "code",
   "execution_count": 5,
   "metadata": {},
   "outputs": [
    {
     "name": "stdout",
     "output_type": "stream",
     "text": [
      "3.7.3 (default, Mar 27 2019, 17:13:21) [MSC v.1915 64 bit (AMD64)]\n"
     ]
    }
   ],
   "source": [
    "#Q2:Write a Python program to get the Python version you are using\n",
    "\n",
    "import sys\n",
    "print(sys.version)"
   ]
  },
  {
   "cell_type": "code",
   "execution_count": 6,
   "metadata": {},
   "outputs": [
    {
     "name": "stdout",
     "output_type": "stream",
     "text": [
      "04-11-2019\n",
      "11:10:42\n"
     ]
    }
   ],
   "source": [
    "#Q3:Write a Python program to display the current date and time.\n",
    "\n",
    "import datetime\n",
    "now=datetime.datetime.now()\n",
    "print(now.strftime(\"%d-%m-%Y\\n%H:%M:%S\"))"
   ]
  },
  {
   "cell_type": "code",
   "execution_count": 7,
   "metadata": {},
   "outputs": [
    {
     "name": "stdout",
     "output_type": "stream",
     "text": [
      "radius r=2\n",
      "12.56\n"
     ]
    }
   ],
   "source": [
    "#Q4:Write a Python program which accepts the radius of a circle from the user and compute the area.\n",
    "\n",
    "r=int(input(\"radius r=\"))\n",
    "pi=3.14\n",
    "Area=pi*r**2\n",
    "print(Area)"
   ]
  },
  {
   "cell_type": "code",
   "execution_count": 11,
   "metadata": {},
   "outputs": [
    {
     "name": "stdout",
     "output_type": "stream",
     "text": [
      "First name =sanila\n",
      "Last name =zafar\n",
      "zafar sanila\n"
     ]
    }
   ],
   "source": [
    "#Q5:Write a Python program which accepts the user's first and last name and print them in reverse order with a space between them.\n",
    "\n",
    "fname=str(input(\"First name =\"))\n",
    "lname=str(input(\"Last name =\"))\n",
    "print(lname,fname)"
   ]
  },
  {
   "cell_type": "code",
   "execution_count": 9,
   "metadata": {},
   "outputs": [
    {
     "name": "stdout",
     "output_type": "stream",
     "text": [
      "a=4\n",
      "b=5\n",
      "9.0\n"
     ]
    }
   ],
   "source": [
    "#Q6:Write a python program which takes two inputs from user and print them addition\n",
    "\n",
    "a=float(input(\"a=\"))\n",
    "b=float(input(\"b=\"))\n",
    "Add= a+b\n",
    "print(Add)"
   ]
  }
 ],
 "metadata": {
  "kernelspec": {
   "display_name": "Python 3",
   "language": "python",
   "name": "python3"
  },
  "language_info": {
   "codemirror_mode": {
    "name": "ipython",
    "version": 3
   },
   "file_extension": ".py",
   "mimetype": "text/x-python",
   "name": "python",
   "nbconvert_exporter": "python",
   "pygments_lexer": "ipython3",
   "version": "3.7.3"
  }
 },
 "nbformat": 4,
 "nbformat_minor": 2
}
