{
 "cells": [
  {
   "cell_type": "code",
   "execution_count": 6,
   "metadata": {},
   "outputs": [
    {
     "name": "stdout",
     "output_type": "stream",
     "text": [
      "Salman\n",
      "Tarar\n",
      "24\n",
      "Jhang\n"
     ]
    }
   ],
   "source": [
    "#Question1:\n",
    "#Use a dictionary to store information about a person you know. Store their first name,last name, \n",
    "#age, and the city in which they live. You should have keys such as first_name,last_name, age, and city. \n",
    "#Print each piece of information stored in your dictionary. \n",
    "#Add a new key value pair about qualification then update the qualification value to high academic level then delete it.\n",
    "\n",
    "person = {'first_name': 'Salman','last_name': 'Tarar','age': 24,'city': 'Jhang',}\n",
    "\n",
    "print(person['first_name'])\n",
    "print(person['last_name'])\n",
    "print(person['age'])\n",
    "print(person['city'])"
   ]
  },
  {
   "cell_type": "code",
   "execution_count": 18,
   "metadata": {},
   "outputs": [
    {
     "name": "stdout",
     "output_type": "stream",
     "text": [
      "Ecnomical hub\n"
     ]
    }
   ],
   "source": [
    "#Question2:\n",
    "#Make a dictionary called cities. Use the names of three cities as keys in your dictionary. \n",
    "#Create a dictionary of information about each city and include the country that the city is in, \n",
    "#its approximate population, and one fact about that city. \n",
    "#The keys for each city’s dictionary should be something like country, population, and fact. \n",
    "#Print the name of each city and all of the information you have stored about it.\n",
    "\n",
    "cities = {'Karachi':'Ecnomical hub' , 'Islamabad' :'Capital', 'Faislabad': 'Textile industry',}\n",
    "print(cities['Karachi'])\n"
   ]
  },
  {
   "cell_type": "code",
   "execution_count": 5,
   "metadata": {},
   "outputs": [
    {
     "name": "stdout",
     "output_type": "stream",
     "text": [
      "enter your age =16\n",
      "The ticket is $15\n"
     ]
    }
   ],
   "source": [
    "#Question 3:\n",
    "#A movie theater charges different ticket prices depending on a person’s age. \n",
    "#If a person is under the age of 3, the ticket is free; if they are between 3 and 12, the ticket is $10; \n",
    "#and if they are over age 12, the ticket is $15. \n",
    "#Write a loop in which you ask users their age, and then tell them the cost of their movie ticket.\n",
    "\n",
    "x=0\n",
    "while x==0:\n",
    "    age = int(input(\"enter your age =\"))\n",
    "    if age < 3:\n",
    "        print('The ticket is free')\n",
    "        break\n",
    "    elif age < 12:\n",
    "        print('The ticket is $10')\n",
    "        break\n",
    "    elif age > 12:\n",
    "        print('The ticket is $15')\n",
    "        break"
   ]
  },
  {
   "cell_type": "code",
   "execution_count": 9,
   "metadata": {},
   "outputs": [
    {
     "name": "stdout",
     "output_type": "stream",
     "text": [
      "One of my favorite book is Alice in Wonderland\n"
     ]
    }
   ],
   "source": [
    "#Question 4:\n",
    "#Write a function called favorite_book() that accepts one parameter, title. \n",
    "#The function should print a message, such as One of my favorite books is Alice in Wonderland. \n",
    "#Call the function, making sure to include a book title as an argument in the function call.\n",
    "\n",
    "def favorite_book(title):\n",
    "    print(\"One of my favorite book is \" + title)\n",
    "\n",
    "favorite_book('Alice in Wonderland')"
   ]
  },
  {
   "cell_type": "code",
   "execution_count": 14,
   "metadata": {},
   "outputs": [
    {
     "name": "stdout",
     "output_type": "stream",
     "text": [
      "What is your name?\n",
      "sanila\n",
      "well,sanila,I am thinking of number between 1 and 30\n",
      "enter a guess=5\n",
      "your guess is smaller\n",
      "enter a guess=17\n",
      "Good,sanilayour guess is correct\n",
      "enter a guess=17\n",
      "Good,sanilayour guess is correct\n"
     ]
    }
   ],
   "source": [
    "#Question 5:\n",
    "#Guess the number game\n",
    "#Write a program which randomly generate a number between 1 to 30 and ask the user in input field to guess the correct number. \n",
    "#Give three chances to user guess the number and also give hint to user if hidden number is greater or smaller than the number he given to input field.\n",
    "\n",
    "import random\n",
    "\n",
    "print('What is your name?')\n",
    "myname=input()\n",
    "\n",
    "num=random.randint(1,30)\n",
    "print('well,'+ myname +',I am thinking of number between 1 and 30')\n",
    "for i in range(0,3):\n",
    "    guess= int(input('enter a guess='))\n",
    "    if guess<num:\n",
    "        print('your guess is smaller')\n",
    "    elif guess>num:\n",
    "        print('your guess is greater')\n",
    "    elif guess==num:\n",
    "        print('Good,'+myname+' your guess is correct')\n",
    "\n"
   ]
  }
 ],
 "metadata": {
  "kernelspec": {
   "display_name": "Python 3",
   "language": "python",
   "name": "python3"
  },
  "language_info": {
   "codemirror_mode": {
    "name": "ipython",
    "version": 3
   },
   "file_extension": ".py",
   "mimetype": "text/x-python",
   "name": "python",
   "nbconvert_exporter": "python",
   "pygments_lexer": "ipython3",
   "version": "3.7.3"
  }
 },
 "nbformat": 4,
 "nbformat_minor": 2
}
